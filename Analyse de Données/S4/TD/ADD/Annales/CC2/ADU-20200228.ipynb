{
 "cells": [
  {
   "cell_type": "markdown",
   "metadata": {},
   "source": [
    "# AD Utilisateur CC2 28 février 2020"
   ]
  },
  {
   "cell_type": "markdown",
   "metadata": {},
   "source": [
    "## Données"
   ]
  },
  {
   "cell_type": "code",
   "execution_count": null,
   "metadata": {},
   "outputs": [],
   "source": [
    "import numpy as np\n",
    "import matplotlib.pyplot as plt\n",
    "%matplotlib inline\n",
    "import warnings\n",
    "warnings.filterwarnings('ignore')\n",
    "import pandas as pd\n",
    "\n",
    "dataf = pd.read_excel(\"Data/phones1.xls\")\n",
    "Xf = dataf._get_numeric_data()\n",
    "n = Xf.shape[0]\n",
    "colval = dataf.columns.values\n",
    "dataf"
   ]
  },
  {
   "cell_type": "code",
   "execution_count": null,
   "metadata": {},
   "outputs": [],
   "source": [
    "statistics = pd.DataFrame({'Feature':Xf.columns.values,\n",
    "                           '$\\overline{x}$': np.round(np.array(dataf.mean()),2),\n",
    "                           '$s^2$': np.round(np.array(dataf.var(ddof=0)),2)})   \n",
    "statistics"
   ]
  },
  {
   "cell_type": "markdown",
   "metadata": {},
   "source": [
    "# Exercice 1"
   ]
  },
  {
   "cell_type": "markdown",
   "metadata": {},
   "source": [
    "## 1) Les 2 premiers smartphones regroupés sont \\#2 et \\#7.  Calculez quelle devrait être la valeur de l'indice correspondant pour qu'il s'agisse bien de  l'accroissement d'inertie intra-groupes. "
   ]
  },
  {
   "cell_type": "code",
   "execution_count": null,
   "metadata": {},
   "outputs": [],
   "source": [
    "x2 = Xf.iloc[1]\n",
    "x7 = Xf.iloc[6]\n",
    "Dw = np.dot(x2-x7,x2-x7) / 2 / n\n",
    "Dw"
   ]
  },
  {
   "cell_type": "markdown",
   "metadata": {},
   "source": [
    "## 2) Quelle partition retiendriez-vous, et pourquoi~?"
   ]
  },
  {
   "cell_type": "markdown",
   "metadata": {},
   "source": [
    "## Le plus grand accroissement d'inertie intra-groupes suggère de choisir une partition en 3 clusters (coupe en 40)."
   ]
  },
  {
   "cell_type": "markdown",
   "metadata": {},
   "source": [
    "## 3) Complétez le canevas ci-après dont le but sera de réaliser ce clustering, puis de comparer la partition résultante à la variable catégorielle Supply."
   ]
  },
  {
   "cell_type": "markdown",
   "metadata": {},
   "source": [
    "## [File : smartphones] -> [Distances] -> [Hierarchical Clustering] -> [Sieve Diagram]"
   ]
  },
  {
   "cell_type": "markdown",
   "metadata": {},
   "source": [
    "# Exercice 2"
   ]
  },
  {
   "cell_type": "code",
   "execution_count": null,
   "metadata": {},
   "outputs": [],
   "source": [
    "X = Xf[['Bell','Auto.','Use']].values\n",
    "Xt = X.T"
   ]
  },
  {
   "cell_type": "code",
   "execution_count": null,
   "metadata": {},
   "outputs": [],
   "source": [
    "x = np.array([60, 50, 75])\n",
    "y = np.array([17,70,70])\n",
    "z = np.array([18,80,65])"
   ]
  },
  {
   "cell_type": "code",
   "execution_count": null,
   "metadata": {},
   "outputs": [],
   "source": [
    "dinf = pd.DataFrame({'Ident.':dataf['Ident.'],\n",
    "                  'x':np.array([39., 41., 40., 46., 40., 43., 43., 40.]),\n",
    "                  'y':np.array([10., 30., 2., 26., 10., 24., 30., 11.]),\n",
    "                  'z':np.array([10., 30., 3., 16., 9., 23., 30., 5.])\n",
    "                 })   \n",
    "dinf"
   ]
  },
  {
   "cell_type": "markdown",
   "metadata": {},
   "source": [
    "## 1) Calculez la distance manquante."
   ]
  },
  {
   "cell_type": "code",
   "execution_count": null,
   "metadata": {},
   "outputs": [],
   "source": [
    "x7 = X[6]\n",
    "max(abs(x-x7))"
   ]
  },
  {
   "cell_type": "markdown",
   "metadata": {},
   "source": [
    "## 2) Classez $x$, $y$ et $z$ (3-NN, $d_\\infty$)"
   ]
  },
  {
   "cell_type": "code",
   "execution_count": null,
   "metadata": {},
   "outputs": [],
   "source": [
    "labels = np.unique(dataf['Supply'])\n",
    "votes = np.zeros(len(labels))\n",
    "probas = np.zeros(len(labels))"
   ]
  },
  {
   "cell_type": "markdown",
   "metadata": {},
   "source": [
    "## Il faudrait tirer au sort certaines valeurs ; ci-dessous, c'est en python...\n",
    "## Remplacez 'z' par 'x' et 'y' pour les autres classements (prédictions)."
   ]
  },
  {
   "cell_type": "markdown",
   "metadata": {},
   "source": [
    "## x : (#1,#3,#5), [3, 0, 0], [1. 0. 0.], AA\n",
    "## y : (#3,#1,#5), [3, 0, 0], [1. 0. 0.], AA\n",
    "## z : (#3,#8,#5), [2, 1, 0], [0.66666667 0.33333333 0], AA"
   ]
  },
  {
   "cell_type": "code",
   "execution_count": null,
   "metadata": {},
   "outputs": [],
   "source": [
    "K = 3\n",
    "KNN = dinf['z'].argsort()[:K]\n",
    "KNNid = dataf['Ident.'][KNN]\n",
    "KNNlabels = dataf['Supply'][KNN]\n",
    "for k in range(len(labels)):\n",
    "    votes[k] = sum(KNNlabels==labels[k])\n",
    "    probas[k] = votes[k] / K\n",
    "print(\"voisins :\\n\",dataf['Ident.'][KNN])\n",
    "print(\"votes :\",votes)\n",
    "print(\"probas :\",probas)\n",
    "prediction = labels[probas.argmax()]\n",
    "print(\"prédiction :\",prediction)"
   ]
  },
  {
   "cell_type": "markdown",
   "metadata": {},
   "source": [
    "# Exercice 4"
   ]
  },
  {
   "cell_type": "markdown",
   "metadata": {},
   "source": [
    "## 1) Faites-les calculs permettant de donner les valeurs manquantes dans les tableaux."
   ]
  },
  {
   "cell_type": "code",
   "execution_count": null,
   "metadata": {},
   "outputs": [],
   "source": [
    "bauf = dataf[['Bell','Auto.','Use']].copy()\n",
    "X = bauf._get_numeric_data()\n",
    "Y0 = [3,2,1,1,2,3,3,2]\n",
    "bauf['Y'] = Y0\n",
    "V1 = bauf.groupby(\"Y\").mean()\n",
    "V1"
   ]
  },
  {
   "cell_type": "code",
   "execution_count": null,
   "metadata": {},
   "outputs": [],
   "source": [
    "from scipy.spatial.distance import pdist, cdist\n",
    "D2 = np.round((cdist(X,V1)**2).T,2)\n",
    "D2"
   ]
  },
  {
   "cell_type": "code",
   "execution_count": null,
   "metadata": {},
   "outputs": [],
   "source": [
    "Y1 = D2.argmin(axis=0) + 1\n",
    "bauf['Y'] = Y1\n",
    "bauf"
   ]
  },
  {
   "cell_type": "code",
   "execution_count": null,
   "metadata": {},
   "outputs": [],
   "source": [
    "V2 = bauf.groupby(\"Y\").mean()\n",
    "V2"
   ]
  },
  {
   "cell_type": "code",
   "execution_count": null,
   "metadata": {},
   "outputs": [],
   "source": [
    "D2 = np.round((cdist(X,V2)**2).T,2)\n",
    "D2"
   ]
  },
  {
   "cell_type": "code",
   "execution_count": null,
   "metadata": {},
   "outputs": [],
   "source": [
    "Y2 = D2.argmin(axis=0) + 1\n",
    "Y2"
   ]
  },
  {
   "cell_type": "markdown",
   "metadata": {},
   "source": [
    "## 2) Calculez le plus simplement possible l'inertie intra-groupes de la partition $Y^{(2)}$."
   ]
  },
  {
   "cell_type": "code",
   "execution_count": null,
   "metadata": {},
   "outputs": [],
   "source": [
    "D2min = D2.min(axis=0)\n",
    "D2min.mean()"
   ]
  },
  {
   "cell_type": "markdown",
   "metadata": {},
   "source": [
    "## 3) L'inertie intra-groupes de la partition selon le constructeur vaut 66.26 ; cette partition est-elle meilleure que $Y^{(2)}$ ?"
   ]
  },
  {
   "cell_type": "markdown",
   "metadata": {},
   "source": [
    "## Non puisque l'inertie intra-groupes est plus grande"
   ]
  },
  {
   "cell_type": "markdown",
   "metadata": {},
   "source": [
    "## 4) Calculez la distance cosinus entre Bell et Auto. "
   ]
  },
  {
   "cell_type": "code",
   "execution_count": null,
   "metadata": {},
   "outputs": [],
   "source": [
    "Bell = bauf['Bell']\n",
    "Bellp = Bell - Bell.mean()\n",
    "Auto = bauf['Auto.']\n",
    "Autop = Auto - Auto.mean()\n",
    "#print(\"variables centrées :\\n\", Bellp, Autop)\n",
    "\n",
    "BellpAutop = Autop.dot(Bellp)\n",
    "BellpBellp = Bellp.dot(Bellp)\n",
    "AutopAutop = Autop.dot(Autop)\n",
    "print(\"produit scalaire, normes au carré :\", BellpAutop, BellpBellp, AutopAutop)\n",
    "\n",
    "dcos = 1 - BellpAutop / np.sqrt(BellpBellp*AutopAutop)\n",
    "print(\"dcos :\", dcos)"
   ]
  },
  {
   "cell_type": "markdown",
   "metadata": {},
   "source": [
    "# Exercice 5"
   ]
  },
  {
   "cell_type": "markdown",
   "metadata": {},
   "source": [
    "## 1) Pourrait/devrait-on regarder une troisième variable discriminante LD-z ? "
   ]
  },
  {
   "cell_type": "markdown",
   "metadata": {},
   "source": [
    "## On ne pourrait pas car il n'y en a que min(c-1=2,p=3) = 2"
   ]
  },
  {
   "cell_type": "markdown",
   "metadata": {},
   "source": [
    "## 2) Sa projection sur LD-x vaut -27.7 ; calculez celle sur LD-y. "
   ]
  },
  {
   "cell_type": "code",
   "execution_count": null,
   "metadata": {},
   "outputs": [],
   "source": [
    "x = np.array([20,60,50,70,80])\n",
    "LDy = np.array([0.95,0.00,-0.19,-0.09,-0.21])\n",
    "x.dot(LDy)"
   ]
  },
  {
   "cell_type": "markdown",
   "metadata": {},
   "source": [
    "## 3) On donne $d_1(x,\\overline{x}_{AA}) = 11.3$ et $d_1(x,\\overline{x}_{BB}) = 4.3$. Faites le reste des calculs nécessaires prédire quel fabricant (Supply) associer à ce nouveau smartphone. N'oubliez pas de conclure. "
   ]
  },
  {
   "cell_type": "code",
   "execution_count": null,
   "metadata": {},
   "outputs": [],
   "source": [
    "xproj = np.array([-27.7,-13.6])\n",
    "xbarCC = np.array([-27.9,-17.3])\n",
    "diff = (xproj-xbarCC)\n",
    "diff"
   ]
  },
  {
   "cell_type": "code",
   "execution_count": null,
   "metadata": {},
   "outputs": [],
   "source": [
    "(xproj-xbarCC).dot((xproj-xbarCC))"
   ]
  },
  {
   "cell_type": "code",
   "execution_count": null,
   "metadata": {},
   "outputs": [],
   "source": [
    "13.73**0.5"
   ]
  },
  {
   "cell_type": "markdown",
   "metadata": {},
   "source": [
    "## Avec la règle NP, on prédit le constructeur CC pour x"
   ]
  },
  {
   "cell_type": "markdown",
   "metadata": {},
   "source": [
    "## 4) Visuellement, aurait-on la même prédiction avec la règle du Nearest Neighbor ? "
   ]
  },
  {
   "cell_type": "markdown",
   "metadata": {},
   "source": [
    "## En plaçant le point [-27.7, -13.6] sur la figure, il semble que son NN est soit le point #6 auquel cas la prédiction sera la même (CC), soit le point #8 auquel cas la prédiction sera BB"
   ]
  },
  {
   "cell_type": "code",
   "execution_count": null,
   "metadata": {},
   "outputs": [],
   "source": []
  }
 ],
 "metadata": {
  "kernelspec": {
   "display_name": "Python 3",
   "language": "python",
   "name": "python3"
  },
  "language_info": {
   "codemirror_mode": {
    "name": "ipython",
    "version": 3
   },
   "file_extension": ".py",
   "mimetype": "text/x-python",
   "name": "python",
   "nbconvert_exporter": "python",
   "pygments_lexer": "ipython3",
   "version": "3.6.4"
  }
 },
 "nbformat": 4,
 "nbformat_minor": 2
}
