{
 "cells": [
  {
   "cell_type": "markdown",
   "metadata": {},
   "source": [
    "# AD Utilisateur CC1 13 février 2020"
   ]
  },
  {
   "cell_type": "markdown",
   "metadata": {},
   "source": [
    "## Données"
   ]
  },
  {
   "cell_type": "code",
   "execution_count": null,
   "metadata": {},
   "outputs": [],
   "source": [
    "import numpy as np\n",
    "import matplotlib.pyplot as plt\n",
    "import warnings\n",
    "warnings.filterwarnings('ignore')\n",
    "import pandas as pd\n",
    "\n",
    "dataf = pd.read_excel(\"Data/phones.xls\")\n",
    "Xf = dataf._get_numeric_data()\n",
    "colval = dataf.columns.values\n",
    "dataf"
   ]
  },
  {
   "cell_type": "code",
   "execution_count": null,
   "metadata": {},
   "outputs": [],
   "source": [
    "statistics = pd.DataFrame({'Feature':Xf.columns.values,\n",
    "                           '$\\overline{x}$': np.round(np.array(dataf.mean()),2),\n",
    "                           '$s^2$': np.round(np.array(dataf.var(ddof=0)),2)})   \n",
    "statistics"
   ]
  },
  {
   "cell_type": "markdown",
   "metadata": {},
   "source": [
    "# Exercice 1"
   ]
  },
  {
   "cell_type": "markdown",
   "metadata": {},
   "source": [
    "## 1) Indicateur de dispersion du widget **Feature Statistics** pour *Bell*"
   ]
  },
  {
   "cell_type": "code",
   "execution_count": null,
   "metadata": {},
   "outputs": [],
   "source": [
    "cv = np.sqrt(statistics['$s^2$']) / abs(statistics['$\\overline{x}$'])\n",
    "cv[0]"
   ]
  },
  {
   "cell_type": "markdown",
   "metadata": {},
   "source": [
    "## 2) Boxplot des statistiques (au nombre de 10)"
   ]
  },
  {
   "cell_type": "code",
   "execution_count": null,
   "metadata": {},
   "outputs": [],
   "source": [
    "values = np.sort(statistics._get_numeric_data(), axis=None)\n",
    "print(\"valeurs triées :\",values)"
   ]
  },
  {
   "cell_type": "code",
   "execution_count": null,
   "metadata": {},
   "outputs": [],
   "source": [
    "# attention, les indices commencent en 0\n",
    "Q2 = (values[4] + values[5]) / 2\n",
    "Q1 = values[2]\n",
    "Q3 = values[7]\n",
    "print(\"box = \",Q1,Q2,Q3)\n",
    "inf = Q1 - 1.5*abs(Q3-Q1)\n",
    "sup = Q3 + 1.5*abs(Q3-Q1)\n",
    "whiskerinf = values[(values > inf)][0]\n",
    "whiskersup = values[(values < sup)][-1]\n",
    "print(\"whiskers =\",[whiskerinf,whiskersup])\n",
    "print(\"outliers =\", values[values<whiskerinf], values[values>whiskersup])"
   ]
  },
  {
   "cell_type": "markdown",
   "metadata": {},
   "source": [
    "# Exercice 2"
   ]
  },
  {
   "cell_type": "markdown",
   "metadata": {},
   "source": [
    "## 1) Corrélation linéaire entre *Bell* et *Trans*"
   ]
  },
  {
   "cell_type": "code",
   "execution_count": null,
   "metadata": {},
   "outputs": [],
   "source": [
    "s2BT = 10007/8 - 18.5*66.5\n",
    "rBT = s2BT / np.sqrt(4.75*127.5)\n",
    "print(\"coef. corrélation linéaire =\",rBT)"
   ]
  },
  {
   "cell_type": "markdown",
   "metadata": {},
   "source": [
    "### ajustement par modèle affine croissant : *Bell* = a *Trans* + b"
   ]
  },
  {
   "cell_type": "markdown",
   "metadata": {},
   "source": [
    "## 2) Quel modèle retenir ?"
   ]
  },
  {
   "cell_type": "markdown",
   "metadata": {},
   "source": [
    "### Les statitiques d'ajustement (RMSE et MAE) plaident pout le dernier mais sa complexité (degré 4) impose de plutôt choisir le deuxième (degré 2)"
   ]
  },
  {
   "cell_type": "markdown",
   "metadata": {},
   "source": [
    "## 3) RMSE"
   ]
  },
  {
   "cell_type": "code",
   "execution_count": null,
   "metadata": {},
   "outputs": [],
   "source": [
    "e = np.array([2.5, 0.5, 1.5, -4.5, 1.5, -1.5, -1.5, 1.5])\n",
    "RMSE = np.std(e)\n",
    "RMSE"
   ]
  },
  {
   "cell_type": "markdown",
   "metadata": {},
   "source": [
    "# Exercice 3"
   ]
  },
  {
   "cell_type": "code",
   "execution_count": null,
   "metadata": {},
   "outputs": [],
   "source": [
    "N = pd.crosstab(dataf['Avis'], dataf['Constructeur'],margins = False)\n",
    "N"
   ]
  },
  {
   "cell_type": "markdown",
   "metadata": {},
   "source": [
    "## 1) Contribution de (5 étoiles, BB) au $\\chi^2$ d'indépendance"
   ]
  },
  {
   "cell_type": "code",
   "execution_count": null,
   "metadata": {},
   "outputs": [],
   "source": [
    "nij = N['BB']['5 étoiles']\n",
    "n = sum(N.sum())\n",
    "tij = N.sum(axis=1)['5 étoiles'] * N.sum(axis=0)['BB'] / n\n",
    "eij = (nij - tij)**2 / tij\n",
    "print(\"nij =\", nij, \"et tij =\", tij)\n",
    "print(\"contribution au chi^2 =\",eij, \"sur 5.33\")"
   ]
  },
  {
   "cell_type": "markdown",
   "metadata": {},
   "source": [
    "## 2) Indépendance ?"
   ]
  },
  {
   "cell_type": "markdown",
   "metadata": {},
   "source": [
    "### $p = 25.5\\%$ est élévée, donc le $\\chi^2$ est petit, alors *Avis* et *Constructeur* sont indépendants"
   ]
  },
  {
   "cell_type": "markdown",
   "metadata": {},
   "source": [
    "## 3) Correspondances"
   ]
  },
  {
   "cell_type": "markdown",
   "metadata": {},
   "source": [
    "### Ex de commentaires pertinents : \n",
    "### - 1 étoile est attiré par CC et repoussé par BB\n",
    "### - 5 étoiles et AA n'ont rien à voir\n",
    "### - ..."
   ]
  },
  {
   "cell_type": "markdown",
   "metadata": {},
   "source": [
    "### Les deux nuages de profils sont en dimension 2, alors les 2 composantes cumulent 100% de leur dispersion commune. Les échelles suggèrent que la 1ère composante en porte beaucoup plus que la 2ème, par ex. 75% et 25%"
   ]
  },
  {
   "cell_type": "markdown",
   "metadata": {},
   "source": [
    "# Exercice 4"
   ]
  },
  {
   "cell_type": "code",
   "execution_count": null,
   "metadata": {},
   "outputs": [],
   "source": []
  },
  {
   "cell_type": "markdown",
   "metadata": {},
   "source": [
    "# Exercice 5"
   ]
  },
  {
   "cell_type": "markdown",
   "metadata": {},
   "source": [
    "## 1) Choix\n",
    "### Deux bonnes raisons de normer :\n",
    "### - les variances de *Bell* et *Autonomy* : 4.5 << 323.5\n",
    "### - Bell sur une échelle 0 à 3 reponsable de la faible variance, les autres de 0 à 10\n",
    "### Le coude sur les % cumulés de variance suggère plutôt 2 composantes que 3."
   ]
  },
  {
   "cell_type": "markdown",
   "metadata": {},
   "source": [
    "## 3) Eléments d'interprétation des 2 premières composantes\n",
    "### - PC1 : *Transmission*, *Bell* et *Sound* à droite, et opposition entre Phones #1 et #5 à droite (les seuls *AA*), et Phones #2 et 6# à gauche (les seuls *CC*). Il s'agit d'une composante technique liée au Constructeur *CC* à gauche, *BB* au milieu et *AA* à droite.\n",
    "### - PC2 : opposition entre *Autonomy* à gauche où on trouve les Phones #1 et #4, et *Use* à droite où on trouve les Phones #2, #5 et #7. Il s'agit clairement d'une composante Client, les uns privilégiant l'autonomie et les autres l'ergonomie. C'est cette variable *Use* qui a fait la note puisqu'on trouve les Phones 1 étoile à gauche, 3 étoiles au milieu et 5 étoiles à droite."
   ]
  },
  {
   "cell_type": "code",
   "execution_count": null,
   "metadata": {},
   "outputs": [],
   "source": []
  }
 ],
 "metadata": {
  "kernelspec": {
   "display_name": "Python 3",
   "language": "python",
   "name": "python3"
  },
  "language_info": {
   "codemirror_mode": {
    "name": "ipython",
    "version": 3
   },
   "file_extension": ".py",
   "mimetype": "text/x-python",
   "name": "python",
   "nbconvert_exporter": "python",
   "pygments_lexer": "ipython3",
   "version": "3.6.4"
  }
 },
 "nbformat": 4,
 "nbformat_minor": 2
}
